{
 "cells": [
  {
   "cell_type": "code",
   "execution_count": 77,
   "metadata": {},
   "outputs": [],
   "source": [
    "from pyspark.sql import SQLContext"
   ]
  },
  {
   "cell_type": "code",
   "execution_count": 78,
   "metadata": {},
   "outputs": [],
   "source": [
    "# Joe needs this\n",
    "if not 'sc' in globals():\n",
    "    from pyspark import SparkContext\n",
    "    sc = SparkContext()"
   ]
  },
  {
   "cell_type": "code",
   "execution_count": 79,
   "metadata": {},
   "outputs": [
    {
     "name": "stdout",
     "output_type": "stream",
     "text": [
      "root\n",
      " |-- action_type: string (nullable = true)\n",
      " |-- combined_shot_type: string (nullable = true)\n",
      " |-- game_event_id: integer (nullable = true)\n",
      " |-- game_id: integer (nullable = true)\n",
      " |-- lat: double (nullable = true)\n",
      " |-- loc_x: integer (nullable = true)\n",
      " |-- loc_y: integer (nullable = true)\n",
      " |-- lon: double (nullable = true)\n",
      " |-- minutes_remaining: integer (nullable = true)\n",
      " |-- period: integer (nullable = true)\n",
      " |-- playoffs: integer (nullable = true)\n",
      " |-- season: string (nullable = true)\n",
      " |-- seconds_remaining: integer (nullable = true)\n",
      " |-- shot_distance: integer (nullable = true)\n",
      " |-- shot_made_flag: integer (nullable = true)\n",
      " |-- shot_type: string (nullable = true)\n",
      " |-- shot_zone_area: string (nullable = true)\n",
      " |-- shot_zone_basic: string (nullable = true)\n",
      " |-- shot_zone_range: string (nullable = true)\n",
      " |-- team_id: integer (nullable = true)\n",
      " |-- team_name: string (nullable = true)\n",
      " |-- game_date: timestamp (nullable = true)\n",
      " |-- matchup: string (nullable = true)\n",
      " |-- opponent: string (nullable = true)\n",
      " |-- shot_id: integer (nullable = true)\n",
      "\n"
     ]
    }
   ],
   "source": [
    "sc_sql = SQLContext(sc)\n",
    "df = sc_sql.read.format('com.databricks.spark.csv').options(header='true', inferschema='true').load(\"data.csv\")\n",
    "df.printSchema()"
   ]
  },
  {
   "cell_type": "code",
   "execution_count": 80,
   "metadata": {},
   "outputs": [],
   "source": [
    "from pyspark.sql.types import IntegerType\n",
    "from pyspark.sql.functions import datediff, to_date, lit, min\n",
    "df = df.withColumn(\"season_num\", df.season[0:4].cast(IntegerType())-1996)\n",
    "df = df.withColumn(\"home_game\", df.matchup.contains(\"@\").cast(IntegerType()))\n",
    "df = df.withColumn(\"time_remaining\", df.minutes_remaining*60+df.seconds_remaining)\n",
    "\n",
    "min_date = df.agg(min(df.game_date)).collect()[0][0]\n",
    "df = df.withColumn(\"days_since_start\", datediff(df.game_date, lit(min_date)))\n",
    "\n",
    "df = df.withColumnRenamed(\"shot_made_flag\", \"label\")"
   ]
  },
  {
   "cell_type": "code",
   "execution_count": 81,
   "metadata": {},
   "outputs": [
    {
     "name": "stdout",
     "output_type": "stream",
     "text": [
      "root\n",
      " |-- action_type: string (nullable = true)\n",
      " |-- combined_shot_type: string (nullable = true)\n",
      " |-- game_event_id: integer (nullable = true)\n",
      " |-- game_id: integer (nullable = true)\n",
      " |-- lat: double (nullable = true)\n",
      " |-- loc_x: integer (nullable = true)\n",
      " |-- loc_y: integer (nullable = true)\n",
      " |-- lon: double (nullable = true)\n",
      " |-- minutes_remaining: integer (nullable = true)\n",
      " |-- period: integer (nullable = true)\n",
      " |-- playoffs: integer (nullable = true)\n",
      " |-- season: string (nullable = true)\n",
      " |-- seconds_remaining: integer (nullable = true)\n",
      " |-- shot_distance: integer (nullable = true)\n",
      " |-- label: integer (nullable = true)\n",
      " |-- shot_type: string (nullable = true)\n",
      " |-- shot_zone_area: string (nullable = true)\n",
      " |-- shot_zone_basic: string (nullable = true)\n",
      " |-- shot_zone_range: string (nullable = true)\n",
      " |-- team_id: integer (nullable = true)\n",
      " |-- team_name: string (nullable = true)\n",
      " |-- game_date: timestamp (nullable = true)\n",
      " |-- matchup: string (nullable = true)\n",
      " |-- opponent: string (nullable = true)\n",
      " |-- shot_id: integer (nullable = true)\n",
      " |-- season_num: integer (nullable = true)\n",
      " |-- home_game: integer (nullable = true)\n",
      " |-- time_remaining: integer (nullable = true)\n",
      " |-- days_since_start: integer (nullable = true)\n",
      " |-- action_typeIndex: double (nullable = false)\n",
      " |-- action_typeclassVec: vector (nullable = true)\n",
      " |-- combined_shot_typeIndex: double (nullable = false)\n",
      " |-- combined_shot_typeclassVec: vector (nullable = true)\n",
      " |-- shot_typeIndex: double (nullable = false)\n",
      " |-- shot_typeclassVec: vector (nullable = true)\n",
      " |-- shot_zone_areaIndex: double (nullable = false)\n",
      " |-- shot_zone_areaclassVec: vector (nullable = true)\n",
      " |-- shot_zone_basicIndex: double (nullable = false)\n",
      " |-- shot_zone_basicclassVec: vector (nullable = true)\n",
      " |-- shot_zone_rangeIndex: double (nullable = false)\n",
      " |-- shot_zone_rangeclassVec: vector (nullable = true)\n",
      " |-- opponentIndex: double (nullable = false)\n",
      " |-- opponentclassVec: vector (nullable = true)\n",
      "\n"
     ]
    }
   ],
   "source": [
    "from pyspark.ml.feature import OneHotEncoderEstimator, StringIndexer\n",
    "from pyspark.ml import Pipeline\n",
    "all_categorical_columns = ['action_type', 'combined_shot_type', 'shot_type', 'shot_zone_area', 'shot_zone_basic', 'shot_zone_range', 'opponent']\n",
    "stages = []\n",
    "\n",
    "for cat_col in all_categorical_columns:\n",
    "    stringIndexer = StringIndexer(inputCol = cat_col, outputCol = cat_col + 'Index')\n",
    "    encoder = OneHotEncoderEstimator(inputCols=[stringIndexer.getOutputCol()], outputCols=[cat_col + \"classVec\"])\n",
    "    stages += [stringIndexer, encoder]\n",
    "\n",
    "common_pipeline = Pipeline(stages = stages)\n",
    "common_pipeline_model = common_pipeline.fit(df)\n",
    "df = common_pipeline_model.transform(df)\n",
    "#selectedCols = ['features'] + df.columns\n",
    "#df = df.select(selectedCols)\n",
    "df.printSchema()"
   ]
  },
  {
   "cell_type": "code",
   "execution_count": 84,
   "metadata": {},
   "outputs": [
    {
     "name": "stdout",
     "output_type": "stream",
     "text": [
      "Training Dataset Count: 20520\n",
      "Test Dataset Count: 5177\n"
     ]
    }
   ],
   "source": [
    "kaggle_test = df.filter(df.label.isNull())\n",
    "df = df.dropna()\n",
    "train, test = df.randomSplit([0.8, 0.2], seed = 1)\n",
    "print(\"Training Dataset Count: \" + str(train.count()))\n",
    "print(\"Test Dataset Count: \" + str(test.count()))"
   ]
  },
  {
   "cell_type": "code",
   "execution_count": 7,
   "metadata": {},
   "outputs": [],
   "source": [
    "from sklearn.metrics import accuracy_score, precision_score, recall_score, log_loss\n",
    "from sklearn.metrics import roc_curve, auc\n",
    "\n",
    "def show_roc_curve(fpr, tpr, roc_auc):\n",
    "    import matplotlib\n",
    "    import matplotlib.pyplot as plt\n",
    "    plt.figure()\n",
    "    lw = 2\n",
    "    plt.plot(fpr, tpr, color='darkorange',\n",
    "             lw=lw, label='ROC curve (area = %0.8f)' % roc_auc)\n",
    "    plt.plot([0, 1], [0, 1], color='navy', lw=lw, linestyle='--')\n",
    "    plt.xlim([0.0, 1.0])\n",
    "    plt.ylim([0.0, 1.05])\n",
    "    plt.xlabel('False Positive Rate')\n",
    "    plt.ylabel('True Positive Rate')\n",
    "    plt.title('Receiver operating characteristic')\n",
    "    plt.legend(loc=\"lower right\")\n",
    "    plt.show()\n",
    "\n",
    "def evaluate_predictions(y_true, y_pred, y_prob = []):\n",
    "#     total = labelPreds.count()\n",
    "#     true_pos = labelPreds.filter((labelPreds.shot_made_flag == 1) & (labelPreds.prediction == 1)).count()\n",
    "#     false_pos = labelPreds.filter((labelPreds.shot_made_flag == 0) & (labelPreds.prediction == 1)).count()\n",
    "#     false_neg= labelPreds.filter((labelPreds.shot_made_flag == 1) & (labelPreds.prediction == 0)).count()\n",
    "#     true_neg = labelPreds.filter((labelPreds.shot_made_flag == 0) & (labelPreds.prediction == 0)).count()\n",
    "    total = len(y_true)\n",
    "    print(\"Total: \" + str(total))\n",
    "    print(\"Precision: \" + str(precision_score(y_true, y_pred)))\n",
    "    print(\"Recall: \" + str(recall_score(y_true, y_pred)))\n",
    "    print(\"Accuracy: \" + str(accuracy_score(y_true, y_pred)))\n",
    "    if len(y_prob) != 0:\n",
    "        print(\"Log loss: \" + str(log_loss(y_true, y_prob)))\n",
    "    \n",
    "    fpr, tpr, thresholds = roc_curve(y_true, [y[1] for y in y_prob], pos_label = 1)\n",
    "    roc_auc = auc(fpr, tpr)\n",
    "    print(\"Area under ROC curve: \" + str(roc_auc))\n",
    "    show_roc_curve(fpr, tpr, roc_auc)"
   ]
  },
  {
   "cell_type": "code",
   "execution_count": 57,
   "metadata": {},
   "outputs": [],
   "source": [
    "from pyspark.ml.evaluation import Evaluator\n",
    "from sklearn.metrics import log_loss\n",
    "\n",
    "class LogLossEvaluator(Evaluator):\n",
    "\n",
    "    def __init__(self, probabilityCol=\"probability\", labelCol=\"label\"):\n",
    "        self.probabilityCol = probabilityCol\n",
    "        self.labelCol = labelCol\n",
    "\n",
    "    def _evaluate(self, dataset):\n",
    "        y_true = np.array(predictions.select(self.labelCol).collect()).reshape(-1)\n",
    "        y_prob = np.array(predictions.select(self.probabilityCol).collect()).reshape(-1, 2)\n",
    "        return log_loss(y_true, y_prob)\n",
    "\n",
    "    def isLargerBetter(self):\n",
    "        return False"
   ]
  },
  {
   "cell_type": "markdown",
   "metadata": {},
   "source": [
    "# Logistic Regression"
   ]
  },
  {
   "cell_type": "code",
   "execution_count": 115,
   "metadata": {},
   "outputs": [
    {
     "name": "stdout",
     "output_type": "stream",
     "text": [
      "Training Dataset Count: 20520\n",
      "Test Dataset Count: 5177\n",
      "Time to train model: 88.149 seconds\n",
      "{Param(parent='LogisticRegression_a374cf70a969', name='aggregationDepth', doc='suggested depth for treeAggregate (>= 2)'): 2, Param(parent='LogisticRegression_a374cf70a969', name='elasticNetParam', doc='the ElasticNet mixing parameter, in range [0, 1]. For alpha = 0, the penalty is an L2 penalty. For alpha = 1, it is an L1 penalty'): 0.0, Param(parent='LogisticRegression_a374cf70a969', name='family', doc='The name of family which is a description of the label distribution to be used in the model. Supported options: auto, binomial, multinomial.'): 'auto', Param(parent='LogisticRegression_a374cf70a969', name='featuresCol', doc='features column name'): 'features', Param(parent='LogisticRegression_a374cf70a969', name='fitIntercept', doc='whether to fit an intercept term'): True, Param(parent='LogisticRegression_a374cf70a969', name='labelCol', doc='label column name'): 'label', Param(parent='LogisticRegression_a374cf70a969', name='maxIter', doc='maximum number of iterations (>= 0)'): 100, Param(parent='LogisticRegression_a374cf70a969', name='predictionCol', doc='prediction column name'): 'prediction', Param(parent='LogisticRegression_a374cf70a969', name='probabilityCol', doc='Column name for predicted class conditional probabilities. Note: Not all models output well-calibrated probability estimates! These probabilities should be treated as confidences, not precise probabilities'): 'probability', Param(parent='LogisticRegression_a374cf70a969', name='rawPredictionCol', doc='raw prediction (a.k.a. confidence) column name'): 'rawPrediction', Param(parent='LogisticRegression_a374cf70a969', name='regParam', doc='regularization parameter (>= 0)'): 0.0, Param(parent='LogisticRegression_a374cf70a969', name='standardization', doc='whether to standardize the training features before fitting the model'): True, Param(parent='LogisticRegression_a374cf70a969', name='threshold', doc='threshold in binary classification prediction, in range [0, 1]'): 0.5, Param(parent='LogisticRegression_a374cf70a969', name='tol', doc='the convergence tolerance for iterative algorithms (>= 0)'): 1e-06}\n",
      "Training Data:\n",
      "Total: 20520\n",
      "Precision: 0.7259195893926433\n",
      "Recall: 0.46230115493571583\n",
      "Accuracy: 0.6814327485380117\n",
      "Log loss: 0.6071100292389099\n",
      "Area under ROC curve: 0.7000228998226614\n"
     ]
    },
    {
     "data": {
      "image/png": "[encoded data removed]",
      "text/plain": [
       "<Figure size 432x288 with 1 Axes>"
      ]
     },
     "metadata": {
      "needs_background": "light"
     },
     "output_type": "display_data"
    },
    {
     "name": "stdout",
     "output_type": "stream",
     "text": [
      "Testing Data:\n",
      "Total: 5177\n",
      "Precision: 0.7162698412698413\n",
      "Recall: 0.4735461303017053\n",
      "Accuracy: 0.6845663511686305\n",
      "Log loss: 0.6229860374563932\n",
      "Area under ROC curve: 0.69297064951138\n"
     ]
    },
    {
     "data": {
      "image/png": "[encoded data removed]",
      "text/plain": [
       "<Figure size 432x288 with 1 Axes>"
      ]
     },
     "metadata": {
      "needs_background": "light"
     },
     "output_type": "display_data"
    }
   ],
   "source": [
    "from pyspark.ml.classification import LogisticRegression\n",
    "from pyspark.ml.tuning import CrossValidator, ParamGridBuilder\n",
    "from pyspark.ml.evaluation import BinaryClassificationEvaluator\n",
    "from pyspark.ml.feature import VectorAssembler, StandardScaler\n",
    "import numpy as np\n",
    "%matplotlib inline\n",
    "from time import *\n",
    "\n",
    "start_time = time()\n",
    "\n",
    "numeric_columns = ['loc_x', 'loc_y', 'period', 'playoffs', 'shot_distance', 'season_num', 'home_game', 'time_remaining', 'days_since_start']\n",
    "categorical_columns = ['action_type', 'shot_zone_area', 'shot_zone_basic', 'opponent', 'shot_type']\n",
    "# Convert categorical to Onehot\n",
    "assemblerInputs = [c + \"classVec\" for c in categorical_columns] + numeric_columns\n",
    "# Convert categorical to ordinal\n",
    "#assemblerInputs = [c + \"Index\" for c in categorical_columns] + numeric_columns\n",
    "# Don't convert categorical\n",
    "# assemblerInputs = categorical_columns + numeric_columns\n",
    "assembler = VectorAssembler(inputCols=assemblerInputs, outputCol=\"features\")\n",
    "scaler = StandardScaler(inputCol=\"features\", outputCol=\"scaled_features\")\n",
    "lr_pipeline = Pipeline(stages=[assembler, scaler])\n",
    "lr_pipeline_model = lr_pipeline.fit(df)\n",
    "lr_df = lr_pipeline_model.transform(df)\n",
    "\n",
    "lr_df = lr_df.dropna()\n",
    "lr_train, lr_test = lr_df.randomSplit([0.8, 0.2], seed = 1)\n",
    "print(\"Training Dataset Count: \" + str(lr_train.count()))\n",
    "print(\"Test Dataset Count: \" + str(lr_test.count()))\n",
    "\n",
    "lr = LogisticRegression(featuresCol=\"features\")\n",
    "#lr = LogisticRegression(featuresCol=\"scaled_features\")\n",
    "\n",
    "#              .addGrid(lr.regParam, [0, 0.001, 0.01, 0.1, 1, 10, 100]) \\\n",
    "#              .addGrid(lr.maxIter, [10, 100, 1000]) \\\n",
    "#              .addGrid(lr.aggregationDepth, [2, 5, 10]) \\\n",
    "#              .addGrid(lr.fitIntercept, [True, False]) \\\n",
    "#              .addGrid(lr.elasticNetParam, [0, 0.5, 1]) \\\n",
    "param_grid = ParamGridBuilder()\\\n",
    "             .build()\n",
    "cross_validator = CrossValidator(estimator=lr,\n",
    "                                 estimatorParamMaps=param_grid,\n",
    "                                 evaluator=LogLossEvaluator(),\n",
    "                                 parallelism=6,\n",
    "                                 seed=12345,\n",
    "                                 numFolds=5)\n",
    "cross_validator_model = cross_validator.fit(lr_train)\n",
    "\n",
    "end_time = time()\n",
    "print(\"Time to train model: %.3f seconds\" % (end_time-start_time))\n",
    "print(cross_validator_model.bestModel.extractParamMap())\n",
    "\n",
    "print(\"Training Data:\")\n",
    "predictions = cross_validator_model.transform(lr_train)\n",
    "y_true = np.array(predictions.select(\"label\").collect()).reshape(-1)\n",
    "y_pred = np.array(predictions.select(\"prediction\").collect()).reshape(-1)\n",
    "y_prob = np.array(predictions.select(\"probability\").collect()).reshape(-1, 2)\n",
    "evaluate_predictions(y_true, y_pred, y_prob)\n",
    "\n",
    "print(\"Testing Data:\")\n",
    "predictions = cross_validator_model.transform(lr_test)\n",
    "y_true = np.array(predictions.select(\"label\").collect()).reshape(-1)\n",
    "y_pred = np.array(predictions.select(\"prediction\").collect()).reshape(-1)\n",
    "y_prob = np.array(predictions.select(\"probability\").collect()).reshape(-1, 2)\n",
    "evaluate_predictions(y_true, y_pred, y_prob)\n"
   ]
  },
  {
   "cell_type": "code",
   "execution_count": 113,
   "metadata": {},
   "outputs": [],
   "source": [
    "from pyspark.sql.functions import udf, col\n",
    "from pyspark.sql.types import FloatType\n",
    "lr_pipeline_model = lr_pipeline.fit(kaggle_test)\n",
    "kaggle_test_df = lr_pipeline_model.transform(kaggle_test)\n",
    "\n",
    "second_udf = udf(lambda value: value[1].item(), FloatType())\n",
    "kaggle_test_df = cross_validator_model.bestModel.transform(kaggle_test_df)\n",
    "#output_df = kaggle_test_df.select(\"shot_id\", \"probability\").withColumn(\"probability2\", second_udf(kaggle_test_df.probability))\n",
    "#output_df.toPandas()\n",
    "output_df = kaggle_test_df.toPandas()[[\"shot_id\", \"probability\"]]\n",
    "output_df[\"shot_made_flag\"] = output_df[\"probability\"].apply(lambda x: x[1])\n",
    "output_df = output_df[[\"shot_id\", \"shot_made_flag\"]]\n",
    "output_df.to_csv(\"kaggle.csv\", index=False)"
   ]
  }
 ],
 "metadata": {
  "kernelspec": {
   "display_name": "Python 3",
   "language": "python",
   "name": "python3"
  },
  "language_info": {
   "codemirror_mode": {
    "name": "ipython",
    "version": 3
   },
   "file_extension": ".py",
   "mimetype": "text/x-python",
   "name": "python",
   "nbconvert_exporter": "python",
   "pygments_lexer": "ipython3",
   "version": "3.7.1"
  }
 },
 "nbformat": 4,
 "nbformat_minor": 2
}
