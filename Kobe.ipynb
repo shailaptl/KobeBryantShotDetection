{
 "cells": [
  {
   "cell_type": "code",
   "execution_count": 26,
   "metadata": {},
   "outputs": [
    {
     "name": "stdout",
     "output_type": "stream",
     "text": [
      "<class 'pandas.core.frame.DataFrame'>\n",
      "RangeIndex: 30697 entries, 0 to 30696\n",
      "Data columns (total 25 columns):\n",
      "action_type           30697 non-null object\n",
      "combined_shot_type    30697 non-null object\n",
      "game_event_id         30697 non-null int64\n",
      "game_id               30697 non-null int64\n",
      "lat                   30697 non-null float64\n",
      "loc_x                 30697 non-null int64\n",
      "loc_y                 30697 non-null int64\n",
      "lon                   30697 non-null float64\n",
      "minutes_remaining     30697 non-null int64\n",
      "period                30697 non-null int64\n",
      "playoffs              30697 non-null int64\n",
      "season                30697 non-null object\n",
      "seconds_remaining     30697 non-null int64\n",
      "shot_distance         30697 non-null int64\n",
      "shot_made_flag        25697 non-null float64\n",
      "shot_type             30697 non-null object\n",
      "shot_zone_area        30697 non-null object\n",
      "shot_zone_basic       30697 non-null object\n",
      "shot_zone_range       30697 non-null object\n",
      "team_id               30697 non-null int64\n",
      "team_name             30697 non-null object\n",
      "game_date             30697 non-null object\n",
      "matchup               30697 non-null object\n",
      "opponent              30697 non-null object\n",
      "shot_id               30697 non-null int64\n",
      "dtypes: float64(3), int64(11), object(11)\n",
      "memory usage: 5.9+ MB\n",
      "None\n",
      "['Jump Shot' 'Driving Dunk Shot' 'Layup Shot' 'Running Jump Shot'\n",
      " 'Driving Layup Shot' 'Reverse Layup Shot' 'Reverse Dunk Shot'\n",
      " 'Slam Dunk Shot' 'Turnaround Jump Shot' 'Tip Shot' 'Running Hook Shot'\n",
      " 'Alley Oop Dunk Shot' 'Dunk Shot' 'Alley Oop Layup shot'\n",
      " 'Running Dunk Shot' 'Driving Finger Roll Shot' 'Running Layup Shot'\n",
      " 'Finger Roll Shot' 'Fadeaway Jump Shot' 'Follow Up Dunk Shot' 'Hook Shot'\n",
      " 'Turnaround Hook Shot' 'Running Tip Shot' 'Jump Hook Shot'\n",
      " 'Running Finger Roll Shot' 'Jump Bank Shot' 'Turnaround Finger Roll Shot'\n",
      " 'Hook Bank Shot' 'Driving Hook Shot' 'Running Reverse Layup Shot'\n",
      " 'Driving Finger Roll Layup Shot' 'Fadeaway Bank shot' 'Pullup Jump shot'\n",
      " 'Finger Roll Layup Shot' 'Turnaround Fadeaway shot'\n",
      " 'Driving Reverse Layup Shot' 'Driving Slam Dunk Shot'\n",
      " 'Step Back Jump shot' 'Reverse Slam Dunk Shot' 'Turnaround Bank shot'\n",
      " 'Running Finger Roll Layup Shot' 'Floating Jump shot'\n",
      " 'Putback Slam Dunk Shot' 'Running Bank shot' 'Driving Bank shot'\n",
      " 'Putback Layup Shot' 'Driving Jump shot' 'Putback Dunk Shot'\n",
      " 'Pullup Bank shot' 'Running Slam Dunk Shot' 'Cutting Layup Shot'\n",
      " 'Driving Floating Jump Shot' 'Running Pull-Up Jump Shot' 'Tip Layup Shot'\n",
      " 'Driving Floating Bank Jump Shot' 'Turnaround Fadeaway Bank Jump Shot'\n",
      " 'Cutting Finger Roll Layup Shot']\n"
     ]
    }
   ],
   "source": [
    "import pylab\n",
    "import pandas as pd\n",
    "data_df = pd.read_csv('./data.csv')\n",
    "print(data_df.info())\n",
    "print(data_df['action_type'].unique())"
   ]
  },
  {
   "cell_type": "code",
   "execution_count": 4,
   "metadata": {},
   "outputs": [
    {
     "name": "stdout",
     "output_type": "stream",
     "text": [
      "57\n"
     ]
    }
   ],
   "source": [
    "print(len(data_df['action_type'].unique()))"
   ]
  },
  {
   "cell_type": "code",
   "execution_count": 28,
   "metadata": {},
   "outputs": [
    {
     "data": {
      "text/plain": [
       "numpy.ndarray"
      ]
     },
     "execution_count": 28,
     "metadata": {},
     "output_type": "execute_result"
    }
   ],
   "source": [
    "uniques = data_df['action_type'].unique()\n",
    "type(uniques)"
   ]
  },
  {
   "cell_type": "code",
   "execution_count": 30,
   "metadata": {},
   "outputs": [
    {
     "name": "stdout",
     "output_type": "stream",
     "text": [
      "{'Jump Shot': 0, 'Driving Dunk Shot': 1, 'Layup Shot': 2, 'Running Jump Shot': 3, 'Driving Layup Shot': 4, 'Reverse Layup Shot': 5, 'Reverse Dunk Shot': 6, 'Slam Dunk Shot': 7, 'Turnaround Jump Shot': 8, 'Tip Shot': 9, 'Running Hook Shot': 10, 'Alley Oop Dunk Shot': 11, 'Dunk Shot': 12, 'Alley Oop Layup shot': 13, 'Running Dunk Shot': 14, 'Driving Finger Roll Shot': 15, 'Running Layup Shot': 16, 'Finger Roll Shot': 17, 'Fadeaway Jump Shot': 18, 'Follow Up Dunk Shot': 19, 'Hook Shot': 20, 'Turnaround Hook Shot': 21, 'Running Tip Shot': 22, 'Jump Hook Shot': 23, 'Running Finger Roll Shot': 24, 'Jump Bank Shot': 25, 'Turnaround Finger Roll Shot': 26, 'Hook Bank Shot': 27, 'Driving Hook Shot': 28, 'Running Reverse Layup Shot': 29, 'Driving Finger Roll Layup Shot': 30, 'Fadeaway Bank shot': 31, 'Pullup Jump shot': 32, 'Finger Roll Layup Shot': 33, 'Turnaround Fadeaway shot': 34, 'Driving Reverse Layup Shot': 35, 'Driving Slam Dunk Shot': 36, 'Step Back Jump shot': 37, 'Reverse Slam Dunk Shot': 38, 'Turnaround Bank shot': 39, 'Running Finger Roll Layup Shot': 40, 'Floating Jump shot': 41, 'Putback Slam Dunk Shot': 42, 'Running Bank shot': 43, 'Driving Bank shot': 44, 'Putback Layup Shot': 45, 'Driving Jump shot': 46, 'Putback Dunk Shot': 47, 'Pullup Bank shot': 48, 'Running Slam Dunk Shot': 49, 'Cutting Layup Shot': 50, 'Driving Floating Jump Shot': 51, 'Running Pull-Up Jump Shot': 52, 'Tip Layup Shot': 53, 'Driving Floating Bank Jump Shot': 54, 'Turnaround Fadeaway Bank Jump Shot': 55, 'Cutting Finger Roll Layup Shot': 56}\n"
     ]
    }
   ],
   "source": [
    "length = len(uniques)\n",
    "actionTypes = {}\n",
    "\n",
    "for counter in range(length):\n",
    "    actionTypes[uniques[counter]] = counter\n",
    "print(actionTypes)\n",
    "\n",
    "allFeatures = {}\n",
    "allFeatures['action_type'] = actionTypes"
   ]
  },
  {
   "cell_type": "code",
   "execution_count": 31,
   "metadata": {},
   "outputs": [],
   "source": [
    "data_df.replace(allFeatures, inplace=True)"
   ]
  },
  {
   "cell_type": "code",
   "execution_count": 82,
   "metadata": {},
   "outputs": [
    {
     "data": {
      "text/html": [
       "<div>\n",
       "<style scoped>\n",
       "    .dataframe tbody tr th:only-of-type {\n",
       "        vertical-align: middle;\n",
       "    }\n",
       "\n",
       "    .dataframe tbody tr th {\n",
       "        vertical-align: top;\n",
       "    }\n",
       "\n",
       "    .dataframe thead th {\n",
       "        text-align: right;\n",
       "    }\n",
       "</style>\n",
       "<table border=\"1\" class=\"dataframe\">\n",
       "  <thead>\n",
       "    <tr style=\"text-align: right;\">\n",
       "      <th></th>\n",
       "      <th>home_game</th>\n",
       "      <th>shot_made_flag</th>\n",
       "    </tr>\n",
       "  </thead>\n",
       "  <tbody>\n",
       "    <tr>\n",
       "      <td>0</td>\n",
       "      <td>False</td>\n",
       "      <td>0.436421</td>\n",
       "    </tr>\n",
       "    <tr>\n",
       "      <td>1</td>\n",
       "      <td>True</td>\n",
       "      <td>0.456468</td>\n",
       "    </tr>\n",
       "  </tbody>\n",
       "</table>\n",
       "</div>"
      ],
      "text/plain": [
       "   home_game  shot_made_flag\n",
       "0      False        0.436421\n",
       "1       True        0.456468"
      ]
     },
     "execution_count": 82,
     "metadata": {},
     "output_type": "execute_result"
    }
   ],
   "source": [
    "data_df['home_game'] = data_df.apply(lambda x: 'vs.' in x.matchup, axis=1)\n",
    "correlate = 'home_game'\n",
    "data_df[[correlate, 'shot_made_flag']].groupby([correlate], as_index=False).mean().sort_values(by=correlate, ascending=True)"
   ]
  },
  {
   "cell_type": "code",
   "execution_count": 63,
   "metadata": {},
   "outputs": [],
   "source": [
    "train_df = data_df[data_df.apply(lambda x: not pd.isnull(x.shot_made_flag), axis=1)]\n",
    "test_df = data_df[data_df.apply(lambda x: pd.isnull(x.shot_made_flag), axis=1)]"
   ]
  },
  {
   "cell_type": "code",
   "execution_count": 25,
   "metadata": {},
   "outputs": [
    {
     "ename": "ValueError",
     "evalue": "Cannot run multiple SparkContexts at once; existing SparkContext(app=pyspark-shell, master=local[*]) created by __init__ at <ipython-input-23-fcf7459939c9>:3 ",
     "output_type": "error",
     "traceback": [
      "\u001b[0;31m---------------------------------------------------------------------------\u001b[0m",
      "\u001b[0;31mValueError\u001b[0m                                Traceback (most recent call last)",
      "\u001b[0;32m<ipython-input-25-3f42f9b176d1>\u001b[0m in \u001b[0;36m<module>\u001b[0;34m\u001b[0m\n\u001b[1;32m      1\u001b[0m \u001b[0;32mfrom\u001b[0m \u001b[0mpyspark\u001b[0m \u001b[0;32mimport\u001b[0m \u001b[0mSparkContext\u001b[0m\u001b[0;34m\u001b[0m\u001b[0;34m\u001b[0m\u001b[0m\n\u001b[1;32m      2\u001b[0m \u001b[0;32mfrom\u001b[0m \u001b[0mpyspark\u001b[0m\u001b[0;34m.\u001b[0m\u001b[0msql\u001b[0m \u001b[0;32mimport\u001b[0m \u001b[0mSQLContext\u001b[0m\u001b[0;34m\u001b[0m\u001b[0;34m\u001b[0m\u001b[0m\n\u001b[0;32m----> 3\u001b[0;31m \u001b[0msc\u001b[0m \u001b[0;34m=\u001b[0m \u001b[0mSparkContext\u001b[0m\u001b[0;34m(\u001b[0m\u001b[0;34m)\u001b[0m\u001b[0;34m\u001b[0m\u001b[0;34m\u001b[0m\u001b[0m\n\u001b[0m\u001b[1;32m      4\u001b[0m \u001b[0msqlContext\u001b[0m \u001b[0;34m=\u001b[0m \u001b[0mSQLContext\u001b[0m\u001b[0;34m(\u001b[0m\u001b[0msc\u001b[0m\u001b[0;34m)\u001b[0m\u001b[0;34m\u001b[0m\u001b[0;34m\u001b[0m\u001b[0m\n\u001b[1;32m      5\u001b[0m \u001b[0mspark_df\u001b[0m \u001b[0;34m=\u001b[0m \u001b[0msqlContext\u001b[0m\u001b[0;34m.\u001b[0m\u001b[0mcreateDataFrame\u001b[0m\u001b[0;34m(\u001b[0m\u001b[0mdata_df\u001b[0m\u001b[0;34m)\u001b[0m\u001b[0;34m\u001b[0m\u001b[0;34m\u001b[0m\u001b[0m\n",
      "\u001b[0;32m/usr/local/spark/python/pyspark/context.py\u001b[0m in \u001b[0;36m__init__\u001b[0;34m(self, master, appName, sparkHome, pyFiles, environment, batchSize, serializer, conf, gateway, jsc, profiler_cls)\u001b[0m\n\u001b[1;32m    131\u001b[0m                     \" note this option will be removed in Spark 3.0\")\n\u001b[1;32m    132\u001b[0m \u001b[0;34m\u001b[0m\u001b[0m\n\u001b[0;32m--> 133\u001b[0;31m         \u001b[0mSparkContext\u001b[0m\u001b[0;34m.\u001b[0m\u001b[0m_ensure_initialized\u001b[0m\u001b[0;34m(\u001b[0m\u001b[0mself\u001b[0m\u001b[0;34m,\u001b[0m \u001b[0mgateway\u001b[0m\u001b[0;34m=\u001b[0m\u001b[0mgateway\u001b[0m\u001b[0;34m,\u001b[0m \u001b[0mconf\u001b[0m\u001b[0;34m=\u001b[0m\u001b[0mconf\u001b[0m\u001b[0;34m)\u001b[0m\u001b[0;34m\u001b[0m\u001b[0;34m\u001b[0m\u001b[0m\n\u001b[0m\u001b[1;32m    134\u001b[0m         \u001b[0;32mtry\u001b[0m\u001b[0;34m:\u001b[0m\u001b[0;34m\u001b[0m\u001b[0;34m\u001b[0m\u001b[0m\n\u001b[1;32m    135\u001b[0m             self._do_init(master, appName, sparkHome, pyFiles, environment, batchSize, serializer,\n",
      "\u001b[0;32m/usr/local/spark/python/pyspark/context.py\u001b[0m in \u001b[0;36m_ensure_initialized\u001b[0;34m(cls, instance, gateway, conf)\u001b[0m\n\u001b[1;32m    330\u001b[0m                         \u001b[0;34m\" created by %s at %s:%s \"\u001b[0m\u001b[0;34m\u001b[0m\u001b[0;34m\u001b[0m\u001b[0m\n\u001b[1;32m    331\u001b[0m                         % (currentAppName, currentMaster,\n\u001b[0;32m--> 332\u001b[0;31m                             callsite.function, callsite.file, callsite.linenum))\n\u001b[0m\u001b[1;32m    333\u001b[0m                 \u001b[0;32melse\u001b[0m\u001b[0;34m:\u001b[0m\u001b[0;34m\u001b[0m\u001b[0;34m\u001b[0m\u001b[0m\n\u001b[1;32m    334\u001b[0m                     \u001b[0mSparkContext\u001b[0m\u001b[0;34m.\u001b[0m\u001b[0m_active_spark_context\u001b[0m \u001b[0;34m=\u001b[0m \u001b[0minstance\u001b[0m\u001b[0;34m\u001b[0m\u001b[0;34m\u001b[0m\u001b[0m\n",
      "\u001b[0;31mValueError\u001b[0m: Cannot run multiple SparkContexts at once; existing SparkContext(app=pyspark-shell, master=local[*]) created by __init__ at <ipython-input-23-fcf7459939c9>:3 "
     ]
    }
   ],
   "source": [
    "from pyspark import SparkContext\n",
    "from pyspark.sql import SQLContext\n",
    "sc = SparkContext()\n",
    "sqlContext = SQLContext(sc)"
   ]
  },
  {
   "cell_type": "code",
   "execution_count": 27,
   "metadata": {},
   "outputs": [
    {
     "data": {
      "text/plain": [
       "[Row(action_type='Turnaround Jump Shot', combined_shot_type='Jump Shot', game_event_id=632, game_id=20300064, lat=33.9603, loc_x=140, loc_y=84, lon=-118.1298, minutes_remaining=0, period=6, playoffs=0, season='2003-04', seconds_remaining=38, shot_distance=16, shot_made_flag=0.0, shot_type='2PT Field Goal', shot_zone_area='Right Side(R)', shot_zone_basic='Mid-Range', shot_zone_range='16-24 ft.', team_id=1610612747, team_name='Los Angeles Lakers', game_date='2003-11-06', matchup='LAL @ SAS', opponent='SAS', shot_id=5104),\n",
       " Row(action_type='Turnaround Jump Shot', combined_shot_type='Jump Shot', game_event_id=603, game_id=21500253, lat=33.8123, loc_x=-81, loc_y=232, lon=-118.3508, minutes_remaining=0, period=4, playoffs=0, season='2015-16', seconds_remaining=12, shot_distance=24, shot_made_flag=1.0, shot_type='3PT Field Goal', shot_zone_area='Left Side Center(LC)', shot_zone_basic='Above the Break 3', shot_zone_range='24+ ft.', team_id=1610612747, team_name='Los Angeles Lakers', game_date='2015-11-29', matchup='LAL vs. IND', opponent='IND', shot_id=22007),\n",
       " Row(action_type='Turnaround Jump Shot', combined_shot_type='Jump Shot', game_event_id=570, game_id=20200127, lat=34.0503, loc_x=-156, loc_y=-6, lon=-118.4258, minutes_remaining=0, period=5, playoffs=0, season='2002-03', seconds_remaining=34, shot_distance=15, shot_made_flag=nan, shot_type='2PT Field Goal', shot_zone_area='Left Side(L)', shot_zone_basic='Mid-Range', shot_zone_range='8-16 ft.', team_id=1610612747, team_name='Los Angeles Lakers', game_date='2002-11-15', matchup='LAL vs. GSW', opponent='GSW', shot_id=3334),\n",
       " Row(action_type='Turnaround Jump Shot', combined_shot_type='Jump Shot', game_event_id=556, game_id=20200127, lat=34.0163, loc_x=-138, loc_y=28, lon=-118.4078, minutes_remaining=1, period=5, playoffs=0, season='2002-03', seconds_remaining=31, shot_distance=14, shot_made_flag=1.0, shot_type='2PT Field Goal', shot_zone_area='Left Side(L)', shot_zone_basic='Mid-Range', shot_zone_range='8-16 ft.', team_id=1610612747, team_name='Los Angeles Lakers', game_date='2002-11-15', matchup='LAL vs. GSW', opponent='GSW', shot_id=3333),\n",
       " Row(action_type='Turnaround Jump Shot', combined_shot_type='Jump Shot', game_event_id=552, game_id=20500218, lat=33.9353, loc_x=13, loc_y=109, lon=-118.2568, minutes_remaining=2, period=5, playoffs=0, season='2005-06', seconds_remaining=22, shot_distance=10, shot_made_flag=1.0, shot_type='2PT Field Goal', shot_zone_area='Center(C)', shot_zone_basic='In The Paint (Non-RA)', shot_zone_range='8-16 ft.', team_id=1610612747, team_name='Los Angeles Lakers', game_date='2005-12-01', matchup='LAL @ UTA', opponent='UTA', shot_id=7946),\n",
       " Row(action_type='Turnaround Jump Shot', combined_shot_type='Jump Shot', game_event_id=548, game_id=21200398, lat=33.9043, loc_x=138, loc_y=140, lon=-118.1318, minutes_remaining=3, period=5, playoffs=0, season='2012-13', seconds_remaining=58, shot_distance=19, shot_made_flag=1.0, shot_type='2PT Field Goal', shot_zone_area='Right Side Center(RC)', shot_zone_basic='Mid-Range', shot_zone_range='16-24 ft.', team_id=1610612747, team_name='Los Angeles Lakers', game_date='2012-12-22', matchup='LAL @ GSW', opponent='GSW', shot_id=19984),\n",
       " Row(action_type='Turnaround Jump Shot', combined_shot_type='Jump Shot', game_event_id=547, game_id=20000347, lat=33.9953, loc_x=123, loc_y=49, lon=-118.1468, minutes_remaining=4, period=5, playoffs=0, season='2000-01', seconds_remaining=40, shot_distance=13, shot_made_flag=0.0, shot_type='2PT Field Goal', shot_zone_area='Right Side(R)', shot_zone_basic='Mid-Range', shot_zone_range='8-16 ft.', team_id=1610612747, team_name='Los Angeles Lakers', game_date='2000-12-17', matchup='LAL @ TOR', opponent='TOR', shot_id=603),\n",
       " Row(action_type='Turnaround Jump Shot', combined_shot_type='Jump Shot', game_event_id=546, game_id=20800158, lat=33.9993, loc_x=-29, loc_y=45, lon=-118.2988, minutes_remaining=2, period=4, playoffs=0, season='2008-09', seconds_remaining=55, shot_distance=5, shot_made_flag=0.0, shot_type='2PT Field Goal', shot_zone_area='Center(C)', shot_zone_basic='In The Paint (Non-RA)', shot_zone_range='Less Than 8 ft.', team_id=1610612747, team_name='Los Angeles Lakers', game_date='2008-11-18', matchup='LAL vs. CHI', opponent='CHI', shot_id=13327),\n",
       " Row(action_type='Turnaround Jump Shot', combined_shot_type='Jump Shot', game_event_id=539, game_id=20500826, lat=33.8503, loc_x=-84, loc_y=194, lon=-118.3538, minutes_remaining=0, period=4, playoffs=0, season='2005-06', seconds_remaining=0, shot_distance=21, shot_made_flag=nan, shot_type='2PT Field Goal', shot_zone_area='Left Side Center(LC)', shot_zone_basic='Mid-Range', shot_zone_range='16-24 ft.', team_id=1610612747, team_name='Los Angeles Lakers', game_date='2006-02-26', matchup='LAL vs. BOS', opponent='BOS', shot_id=8975),\n",
       " Row(action_type='Turnaround Jump Shot', combined_shot_type='Jump Shot', game_event_id=529, game_id=20800821, lat=33.9453, loc_x=69, loc_y=99, lon=-118.2008, minutes_remaining=4, period=5, playoffs=0, season='2008-09', seconds_remaining=18, shot_distance=12, shot_made_flag=1.0, shot_type='2PT Field Goal', shot_zone_area='Right Side(R)', shot_zone_basic='In The Paint (Non-RA)', shot_zone_range='8-16 ft.', team_id=1610612747, team_name='Los Angeles Lakers', game_date='2009-02-20', matchup='LAL vs. NOH', opponent='NOH', shot_id=14314),\n",
       " Row(action_type='Turnaround Jump Shot', combined_shot_type='Jump Shot', game_event_id=528, game_id=21200364, lat=33.9153, loc_x=39, loc_y=129, lon=-118.2308, minutes_remaining=3, period=4, playoffs=0, season='2012-13', seconds_remaining=35, shot_distance=13, shot_made_flag=0.0, shot_type='2PT Field Goal', shot_zone_area='Center(C)', shot_zone_basic='In The Paint (Non-RA)', shot_zone_range='8-16 ft.', team_id=1610612747, team_name='Los Angeles Lakers', game_date='2012-12-18', matchup='LAL vs. CHA', opponent='CHA', shot_id=19944),\n",
       " Row(action_type='Turnaround Jump Shot', combined_shot_type='Jump Shot', game_event_id=525, game_id=40700141, lat=33.9113, loc_x=-133, loc_y=133, lon=-118.4028, minutes_remaining=4, period=4, playoffs=1, season='2007-08', seconds_remaining=3, shot_distance=18, shot_made_flag=nan, shot_type='2PT Field Goal', shot_zone_area='Left Side Center(LC)', shot_zone_basic='Mid-Range', shot_zone_range='16-24 ft.', team_id=1610612747, team_name='Los Angeles Lakers', game_date='2008-04-20', matchup='LAL vs. DEN', opponent='DEN', shot_id=28063),\n",
       " Row(action_type='Turnaround Jump Shot', combined_shot_type='Jump Shot', game_event_id=519, game_id=41100235, lat=34.0163, loc_x=103, loc_y=28, lon=-118.1668, minutes_remaining=0, period=4, playoffs=1, season='2011-12', seconds_remaining=58, shot_distance=10, shot_made_flag=1.0, shot_type='2PT Field Goal', shot_zone_area='Right Side(R)', shot_zone_basic='Mid-Range', shot_zone_range='8-16 ft.', team_id=1610612747, team_name='Los Angeles Lakers', game_date='2012-05-21', matchup='LAL @ OKC', opponent='OKC', shot_id=30030),\n",
       " Row(action_type='Turnaround Jump Shot', combined_shot_type='Jump Shot', game_event_id=519, game_id=21500422, lat=33.8903, loc_x=-32, loc_y=154, lon=-118.3018, minutes_remaining=0, period=4, playoffs=0, season='2015-16', seconds_remaining=32, shot_distance=15, shot_made_flag=1.0, shot_type='2PT Field Goal', shot_zone_area='Center(C)', shot_zone_basic='Mid-Range', shot_zone_range='8-16 ft.', team_id=1610612747, team_name='Los Angeles Lakers', game_date='2015-12-22', matchup='LAL @ DEN', opponent='DEN', shot_id=22202),\n",
       " Row(action_type='Turnaround Jump Shot', combined_shot_type='Jump Shot', game_event_id=518, game_id=20101159, lat=33.9093, loc_x=108, loc_y=135, lon=-118.1618, minutes_remaining=1, period=5, playoffs=0, season='2001-02', seconds_remaining=35, shot_distance=17, shot_made_flag=0.0, shot_type='2PT Field Goal', shot_zone_area='Right Side Center(RC)', shot_zone_basic='Mid-Range', shot_zone_range='16-24 ft.', team_id=1610612747, team_name='Los Angeles Lakers', game_date='2002-04-14', matchup='LAL @ POR', opponent='POR', shot_id=3073),\n",
       " Row(action_type='Turnaround Jump Shot', combined_shot_type='Jump Shot', game_event_id=516, game_id=21100669, lat=33.9963, loc_x=95, loc_y=48, lon=-118.1748, minutes_remaining=4, period=4, playoffs=0, season='2011-12', seconds_remaining=46, shot_distance=10, shot_made_flag=0.0, shot_type='2PT Field Goal', shot_zone_area='Right Side(R)', shot_zone_basic='Mid-Range', shot_zone_range='8-16 ft.', team_id=1610612747, team_name='Los Angeles Lakers', game_date='2012-03-18', matchup='LAL vs. UTA', opponent='UTA', shot_id=19138),\n",
       " Row(action_type='Turnaround Jump Shot', combined_shot_type='Jump Shot', game_event_id=515, game_id=40000083, lat=34.0523, loc_x=146, loc_y=-8, lon=-118.1238, minutes_remaining=0, period=5, playoffs=1, season='2000-01', seconds_remaining=34, shot_distance=14, shot_made_flag=1.0, shot_type='2PT Field Goal', shot_zone_area='Right Side(R)', shot_zone_basic='Mid-Range', shot_zone_range='8-16 ft.', team_id=1610612747, team_name='Los Angeles Lakers', game_date='2001-06-06', matchup='LAL vs. PHI', opponent='PHI', shot_id=26472),\n",
       " Row(action_type='Turnaround Jump Shot', combined_shot_type='Jump Shot', game_event_id=515, game_id=20600977, lat=34.0223, loc_x=227, loc_y=22, lon=-118.0428, minutes_remaining=0, period=5, playoffs=0, season='2006-07', seconds_remaining=44, shot_distance=22, shot_made_flag=1.0, shot_type='3PT Field Goal', shot_zone_area='Right Side(R)', shot_zone_basic='Right Corner 3', shot_zone_range='24+ ft.', team_id=1610612747, team_name='Los Angeles Lakers', game_date='2007-03-16', matchup='LAL vs. POR', opponent='POR', shot_id=10995),\n",
       " Row(action_type='Turnaround Jump Shot', combined_shot_type='Jump Shot', game_event_id=515, game_id=20000347, lat=33.9723, loc_x=-48, loc_y=72, lon=-118.3178, minutes_remaining=0, period=4, playoffs=0, season='2000-01', seconds_remaining=48, shot_distance=8, shot_made_flag=nan, shot_type='2PT Field Goal', shot_zone_area='Left Side(L)', shot_zone_basic='In The Paint (Non-RA)', shot_zone_range='8-16 ft.', team_id=1610612747, team_name='Los Angeles Lakers', game_date='2000-12-17', matchup='LAL @ TOR', opponent='TOR', shot_id=601),\n",
       " Row(action_type='Turnaround Jump Shot', combined_shot_type='Jump Shot', game_event_id=512, game_id=20200127, lat=34.0183, loc_x=161, loc_y=26, lon=-118.1088, minutes_remaining=4, period=5, playoffs=0, season='2002-03', seconds_remaining=26, shot_distance=16, shot_made_flag=0.0, shot_type='2PT Field Goal', shot_zone_area='Right Side(R)', shot_zone_basic='Mid-Range', shot_zone_range='16-24 ft.', team_id=1610612747, team_name='Los Angeles Lakers', game_date='2002-11-15', matchup='LAL vs. GSW', opponent='GSW', shot_id=3331)]"
      ]
     },
     "execution_count": 27,
     "metadata": {},
     "output_type": "execute_result"
    }
   ],
   "source": [
    "spark_df = sqlContext.createDataFrame(data_df)\n",
    "spark_df.rdd.top(20)"
   ]
  }
 ],
 "metadata": {
  "kernelspec": {
   "display_name": "Python 3",
   "language": "python",
   "name": "python3"
  },
  "language_info": {
   "codemirror_mode": {
    "name": "ipython",
    "version": 3
   },
   "file_extension": ".py",
   "mimetype": "text/x-python",
   "name": "python",
   "nbconvert_exporter": "python",
   "pygments_lexer": "ipython3",
   "version": "3.7.3"
  }
 },
 "nbformat": 4,
 "nbformat_minor": 2
}
